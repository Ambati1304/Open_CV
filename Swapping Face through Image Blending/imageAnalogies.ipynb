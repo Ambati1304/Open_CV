{
 "cells": [
  {
   "cell_type": "code",
   "execution_count": 1,
   "metadata": {
    "collapsed": true
   },
   "outputs": [],
   "source": [
    "import numpy as np\n",
    "from skimage import io,transform,img_as_float\n",
    "from skimage.io import imread,imsave\n",
    "from numpy import eye"
   ]
  },
  {
   "cell_type": "code",
   "execution_count": 2,
   "metadata": {
    "collapsed": false
   },
   "outputs": [],
   "source": [
    "def match_color(target_img, source_img, mode='pca', eps=1e-5):\n",
    "    \n",
    "    \n",
    "    mu_t = target_img.mean(0).mean(0)\n",
    "    t = target_img - mu_t\n",
    "    t = t.transpose(2,0,1).reshape(3,-1)\n",
    "    Ct = t.dot(t.T) / t.shape[1] + eps * eye(t.shape[0])\n",
    "    mu_s = source_img.mean(0).mean(0)\n",
    "    s = source_img - mu_s\n",
    "    s = s.transpose(2,0,1).reshape(3,-1)\n",
    "    Cs = s.dot(s.T) / s.shape[1] + eps * eye(s.shape[0])\n",
    "    if mode == 'chol':\n",
    "        chol_t = np.linalg.cholesky(Ct)\n",
    "        chol_s = np.linalg.cholesky(Cs)\n",
    "        ts = chol_s.dot(np.linalg.inv(chol_t)).dot(t)\n",
    "    if mode == 'pca':\n",
    "        eva_t, eve_t = np.linalg.eigh(Ct)\n",
    "        Qt = eve_t.dot(np.sqrt(np.diag(eva_t))).dot(eve_t.T)\n",
    "        eva_s, eve_s = np.linalg.eigh(Cs)\n",
    "        Qs = eve_s.dot(np.sqrt(np.diag(eva_s))).dot(eve_s.T)\n",
    "        ts = Qs.dot(np.linalg.inv(Qt)).dot(t)\n",
    "    if mode == 'sym':\n",
    "        eva_t, eve_t = np.linalg.eigh(Ct)\n",
    "        Qt = eve_t.dot(np.sqrt(np.diag(eva_t))).dot(eve_t.T)\n",
    "        Qt_Cs_Qt = Qt.dot(Cs).dot(Qt)\n",
    "        eva_QtCsQt, eve_QtCsQt = np.linalg.eigh(Qt_Cs_Qt)\n",
    "        QtCsQt = eve_QtCsQt.dot(np.sqrt(np.diag(eva_QtCsQt))).dot(eve_QtCsQt.T)\n",
    "        ts = np.linalg.inv(Qt).dot(QtCsQt).dot(np.linalg.inv(Qt)).dot(t)\n",
    "    matched_img = ts.reshape(*target_img.transpose(2,0,1).shape).transpose(1,2,0)\n",
    "    matched_img += mu_s\n",
    "    matched_img[matched_img>1] = 1\n",
    "    matched_img[matched_img<0] = 0\n",
    "    return matched_img\n"
   ]
  },
  {
   "cell_type": "code",
   "execution_count": 3,
   "metadata": {
    "collapsed": false
   },
   "outputs": [
    {
     "ename": "NameError",
     "evalue": "name 'colorTransfer' is not defined",
     "output_type": "error",
     "traceback": [
      "\u001b[1;31m---------------------------------------------------------------------------\u001b[0m",
      "\u001b[1;31mNameError\u001b[0m                                 Traceback (most recent call last)",
      "\u001b[1;32m<ipython-input-3-5818b5d08cdc>\u001b[0m in \u001b[0;36m<module>\u001b[1;34m()\u001b[0m\n\u001b[0;32m      7\u001b[0m \u001b[0mimg2\u001b[0m \u001b[1;33m=\u001b[0m \u001b[0mimread\u001b[0m\u001b[1;33m(\u001b[0m\u001b[0mimg2_path\u001b[0m\u001b[1;33m)\u001b[0m\u001b[1;33m.\u001b[0m\u001b[0mastype\u001b[0m\u001b[1;33m(\u001b[0m\u001b[0mfloat\u001b[0m\u001b[1;33m)\u001b[0m\u001b[1;33m/\u001b[0m\u001b[1;36m256\u001b[0m\u001b[1;33m\u001b[0m\u001b[0m\n\u001b[0;32m      8\u001b[0m \u001b[1;33m\u001b[0m\u001b[0m\n\u001b[1;32m----> 9\u001b[1;33m \u001b[0mswap1\u001b[0m \u001b[1;33m=\u001b[0m \u001b[0mcolorTransfer\u001b[0m\u001b[1;33m(\u001b[0m\u001b[0mimg1\u001b[0m\u001b[1;33m,\u001b[0m \u001b[0mimg2\u001b[0m\u001b[1;33m)\u001b[0m\u001b[1;33m\u001b[0m\u001b[0m\n\u001b[0m\u001b[0;32m     10\u001b[0m \u001b[0mswap2\u001b[0m \u001b[1;33m=\u001b[0m \u001b[0mcolorTransfer\u001b[0m\u001b[1;33m(\u001b[0m\u001b[0mimg2\u001b[0m\u001b[1;33m,\u001b[0m \u001b[0mimg1\u001b[0m\u001b[1;33m)\u001b[0m\u001b[1;33m\u001b[0m\u001b[0m\n\u001b[0;32m     11\u001b[0m \u001b[0mimsave\u001b[0m\u001b[1;33m(\u001b[0m\u001b[0moutput_path1\u001b[0m\u001b[1;33m,\u001b[0m \u001b[0mswap1\u001b[0m\u001b[1;33m)\u001b[0m\u001b[1;33m\u001b[0m\u001b[0m\n",
      "\u001b[1;31mNameError\u001b[0m: name 'colorTransfer' is not defined"
     ]
    }
   ],
   "source": [
    "img1_path = 'Scarlett.jpg'\n",
    "img2_path = 'emilia.jpg'\n",
    "output_path1 = 'out9.jpg'\n",
    "output_path2 = 'out10.jpg'\n",
    "\n",
    "img1 = imread(img1_path).astype(float)/256\n",
    "img2 = imread(img2_path).astype(float)/256\n",
    "\n",
    "swap1 = match_color(img1, img2)\n",
    "swap2 = colorTransfer(img2, img1)\n",
    "imsave(output_path1, swap1)\n",
    "imsave(output_path2, swap2)"
   ]
  },
  {
   "cell_type": "code",
   "execution_count": null,
   "metadata": {
    "collapsed": true
   },
   "outputs": [],
   "source": []
  }
 ],
 "metadata": {
  "anaconda-cloud": {},
  "kernelspec": {
   "display_name": "Python [Root]",
   "language": "python",
   "name": "Python [Root]"
  },
  "language_info": {
   "codemirror_mode": {
    "name": "ipython",
    "version": 3
   },
   "file_extension": ".py",
   "mimetype": "text/x-python",
   "name": "python",
   "nbconvert_exporter": "python",
   "pygments_lexer": "ipython3",
   "version": "3.5.2"
  }
 },
 "nbformat": 4,
 "nbformat_minor": 1
}
