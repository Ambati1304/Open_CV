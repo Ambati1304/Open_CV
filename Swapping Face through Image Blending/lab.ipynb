{
 "cells": [
  {
   "cell_type": "code",
   "execution_count": 1,
   "metadata": {
    "collapsed": true
   },
   "outputs": [],
   "source": [
    "import numpy as np\n",
    "import cv2"
   ]
  },
  {
   "cell_type": "code",
   "execution_count": 2,
   "metadata": {
    "collapsed": false
   },
   "outputs": [],
   "source": [
    "def colorTransfer(sourceimg, targetimg):\n",
    "    sourceimg_lab = cv2.cvtColor(sourceimg, cv2.COLOR_BGR2LAB).astype(\"float32\")\n",
    "    targetimg_lab = cv2.cvtColor(targetimg, cv2.COLOR_BGR2LAB).astype(\"float32\")\n",
    "    \n",
    "    (sourceimg_mu, sourceimg_sigma) = cv2.meanStdDev(sourceimg_lab)\n",
    "    (targetimg_mu, targetimg_sigma) = cv2.meanStdDev(targetimg_lab)\n",
    "    \n",
    "    (L, A, B) = cv2.split(targetimg_lab)\n",
    "    \n",
    "    L -= targetimg_mu[0]\n",
    "    A -= targetimg_mu[1]\n",
    "    B -= targetimg_mu[2]\n",
    "    \n",
    "    L *= (targetimg_sigma[0] / sourceimg_sigma[0])\n",
    "    A *= (targetimg_sigma[1] / sourceimg_sigma[1])\n",
    "    B *= (targetimg_sigma[2] / sourceimg_sigma[2])\n",
    "    \n",
    "    L += sourceimg_mu[0]\n",
    "    A += sourceimg_mu[1]\n",
    "    B += sourceimg_mu[2]\n",
    "    \n",
    "    L = np.clip(L, 0, 255)\n",
    "    A = np.clip(A, 0, 255)\n",
    "    B = np.clip(B, 0, 255)\n",
    "    \n",
    "    result = cv2.merge([L, A, B])\n",
    "    result = cv2.cvtColor(result.astype(\"uint8\"), cv2.COLOR_LAB2BGR)\n",
    "    \n",
    "    return result"
   ]
  },
  {
   "cell_type": "code",
   "execution_count": 3,
   "metadata": {
    "collapsed": false
   },
   "outputs": [],
   "source": [
    "img1_path = 'emilia.jpg'\n",
    "img2_path = 'Scarlett.jpg'\n",
    "output_path1 = 'out5.jpg'\n",
    "output_path2 = 'out6.jpg'\n",
    "\n",
    "img1 = cv2.imread(img1_path,1)\n",
    "img2 = cv2.imread(img2_path,1)\n",
    "swap1 = colorTransfer(img1,img2)\n",
    "swap2 = colorTransfer(img2,img1)"
   ]
  },
  {
   "cell_type": "code",
   "execution_count": 4,
   "metadata": {
    "collapsed": false
   },
   "outputs": [
    {
     "data": {
      "text/plain": [
       "True"
      ]
     },
     "execution_count": 4,
     "metadata": {},
     "output_type": "execute_result"
    }
   ],
   "source": [
    "cv2.imwrite(output_path1,swap1)\n",
    "cv2.imwrite(output_path2,swap2)"
   ]
  },
  {
   "cell_type": "code",
   "execution_count": null,
   "metadata": {
    "collapsed": true
   },
   "outputs": [],
   "source": []
  }
 ],
 "metadata": {
  "anaconda-cloud": {},
  "kernelspec": {
   "display_name": "Python [Root]",
   "language": "python",
   "name": "Python [Root]"
  },
  "language_info": {
   "codemirror_mode": {
    "name": "ipython",
    "version": 3
   },
   "file_extension": ".py",
   "mimetype": "text/x-python",
   "name": "python",
   "nbconvert_exporter": "python",
   "pygments_lexer": "ipython3",
   "version": "3.5.2"
  }
 },
 "nbformat": 4,
 "nbformat_minor": 1
}
